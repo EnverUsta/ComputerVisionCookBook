{
  "nbformat": 4,
  "nbformat_minor": 0,
  "metadata": {
    "orig_nbformat": 2,
    "kernelspec": {
      "name": "python3",
      "display_name": "Python 3"
    },
    "colab": {
      "name": "main.ipynb",
      "provenance": [],
      "toc_visible": true
    },
    "language_info": {
      "name": "python"
    },
    "accelerator": "GPU"
  },
  "cells": [
    {
      "cell_type": "code",
      "metadata": {
        "id": "1Nf8S1HrN0rB"
      },
      "source": [
        "from sklearn.model_selection import train_test_split\n",
        "from sklearn.preprocessing import LabelBinarizer\n",
        "from tensorflow.keras import Input\n",
        "from tensorflow.keras.datasets import mnist\n",
        "from tensorflow.keras.layers import Dense\n",
        "from tensorflow.keras.models import *"
      ],
      "execution_count": null,
      "outputs": []
    },
    {
      "cell_type": "markdown",
      "metadata": {
        "id": "l47yHSjyQiNh"
      },
      "source": [
        "# Sequential Model List"
      ]
    },
    {
      "cell_type": "code",
      "metadata": {
        "id": "N-on7a6eO7DW"
      },
      "source": [
        "layers = [\n",
        "          Dense(256, input_shape=(28*28*1,), activation='sigmoid'),\n",
        "          Dense(128, activation='sigmoid'),\n",
        "          Dense(10, activation='softmax')\n",
        "]\n",
        "\n",
        "sequential_model_list = Sequential(layers)"
      ],
      "execution_count": null,
      "outputs": []
    },
    {
      "cell_type": "markdown",
      "metadata": {
        "id": "Zv6v-60YQmCo"
      },
      "source": [
        "# Sequential Model"
      ]
    },
    {
      "cell_type": "code",
      "metadata": {
        "id": "W0CIryJ8PdDT"
      },
      "source": [
        "sequential_model = Sequential()\n",
        "sequential_model.add(Dense(256, input_shape=(28 * 28 * 1,), activation='sigmoid'))\n",
        "sequential_model.add(Dense(128, activation='sigmoid'))\n",
        "sequential_model.add(Dense(10, activation='softmax'))"
      ],
      "execution_count": null,
      "outputs": []
    },
    {
      "cell_type": "markdown",
      "metadata": {
        "id": "GSnXZ29HQ7Ee"
      },
      "source": [
        "# Funtional Model"
      ]
    },
    {
      "cell_type": "code",
      "metadata": {
        "id": "VkAPARnHRIg0"
      },
      "source": [
        "input_layer = Input(shape=(28 * 28 * 1,))\n",
        "dense_1 = Dense(256, activation='sigmoid')(input_layer)\n",
        "dense_2 = Dense(128, activation='sigmoid')(dense_1)\n",
        "predictions = Dense(10, activation='softmax')(dense_2)\n",
        "functional_model = Model(inputs=input_layer, outputs=predictions)"
      ],
      "execution_count": null,
      "outputs": []
    },
    {
      "cell_type": "markdown",
      "metadata": {
        "id": "PlM3Z5CKRMdW"
      },
      "source": [
        "# Class Model"
      ]
    },
    {
      "cell_type": "code",
      "metadata": {
        "id": "T5yaM4lPRJCz"
      },
      "source": [
        "class ClassModel(Model):\n",
        "  def __init__(self):\n",
        "    super(ClassModel, self).__init__()\n",
        "    self.dense_1 = Dense(256, activation='sigmoid')\n",
        "    self.dense_2 = Dense(256, activation='sigmoid')\n",
        "    self.predictions = Dense(10, activation='softmax')\n",
        "  \n",
        "  def call(self, inputs, **kwargs):\n",
        "    x = self.dense_1(inputs)\n",
        "    x = self.dense_2(x)\n",
        "  \n",
        "    return self.predictions(x)\n",
        "\n",
        "class_model = ClassModel()"
      ],
      "execution_count": null,
      "outputs": []
    },
    {
      "cell_type": "markdown",
      "metadata": {
        "id": "Q__DTGfbV1A2"
      },
      "source": [
        "# Load data"
      ]
    },
    {
      "cell_type": "code",
      "metadata": {
        "id": "ErOlHydMVH5b"
      },
      "source": [
        "(X_train, y_train), (X_test, y_test) = mnist.load_data()\n",
        "\n",
        "# reshape the datas\n",
        "X_train = X_train.reshape((X_train.shape[0], 28*28*1))\n",
        "X_test = X_test.reshape((X_test.shape[0], 28*28*1))\n",
        "\n",
        "# change the type\n",
        "X_train = X_train.astype('float32') / 255.0\n",
        "X_test = X_test.astype('float32') / 255.0"
      ],
      "execution_count": null,
      "outputs": []
    },
    {
      "cell_type": "code",
      "metadata": {
        "id": "ZhYnafWHXlS7"
      },
      "source": [
        "label_binarizer = LabelBinarizer()\n",
        "y_train = label_binarizer.fit_transform(y_train)\n",
        "y_test = label_binarizer.fit_transform(y_test)"
      ],
      "execution_count": null,
      "outputs": []
    },
    {
      "cell_type": "code",
      "metadata": {
        "id": "lniqZMMEZiZq"
      },
      "source": [
        "# take 20% of the data for validation\n",
        "X_train, X_valid, y_train, y_valid = train_test_split(X_train, y_train, train_size=0.8)"
      ],
      "execution_count": null,
      "outputs": []
    },
    {
      "cell_type": "markdown",
      "metadata": {
        "id": "uwfHtVlsWctU"
      },
      "source": [
        "# Execute"
      ]
    },
    {
      "cell_type": "code",
      "metadata": {
        "id": "Cud7JjpUV3wi",
        "colab": {
          "base_uri": "https://localhost:8080/"
        },
        "outputId": "fd4c0ed4-527b-4150-a7b1-7cd0ff4f8ee3"
      },
      "source": [
        "models = {\n",
        "    'sequential_model': sequential_model,\n",
        "    'sequential_model_list': sequential_model_list,\n",
        "    'functional_model': functional_model,\n",
        "    'class_model': class_model\n",
        "}\n",
        "\n",
        "for name, model in models.items():\n",
        "    print(f'Compiling model: {name}')\n",
        "    model.compile(loss='categorical_crossentropy', optimizer='adam', metrics=['accuracy'])\n",
        "\n",
        "    print(f'Training model: {name}')\n",
        "    model.fit(X_train, y_train,\n",
        "              validation_data=(X_valid, y_valid),\n",
        "              epochs=50,\n",
        "              batch_size=256,\n",
        "              verbose=0)\n",
        "\n",
        "    _, accuracy = model.evaluate(X_test, y_test, verbose=0)\n",
        "    print(f'Testing model: {name}. \\nAccuracy: {accuracy}')\n",
        "    print('---')"
      ],
      "execution_count": null,
      "outputs": [
        {
          "output_type": "stream",
          "text": [
            "Compiling model: sequential_model\n",
            "Training model: sequential_model\n",
            "Testing model: sequential_model. \n",
            "Accuracy: 0.9805999994277954\n",
            "---\n",
            "Compiling model: sequential_model_list\n",
            "Training model: sequential_model_list\n",
            "Testing model: sequential_model_list. \n",
            "Accuracy: 0.9799000024795532\n",
            "---\n",
            "Compiling model: functional_model\n",
            "Training model: functional_model\n",
            "Testing model: functional_model. \n",
            "Accuracy: 0.9801999926567078\n",
            "---\n",
            "Compiling model: class_model\n",
            "Training model: class_model\n",
            "Testing model: class_model. \n",
            "Accuracy: 0.9807000160217285\n",
            "---\n"
          ],
          "name": "stdout"
        }
      ]
    },
    {
      "cell_type": "code",
      "metadata": {
        "id": "lLOnG-IWWJQH"
      },
      "source": [
        ""
      ],
      "execution_count": null,
      "outputs": []
    }
  ]
}